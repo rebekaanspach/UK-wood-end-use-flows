{
 "cells": [
  {
   "cell_type": "code",
   "execution_count": 12,
   "id": "64983908",
   "metadata": {},
   "outputs": [],
   "source": [
    "import pandas as pd\n",
    "import matplotlib.pyplot as plt\n",
    "import statistics as stats\n",
    "import arviz as az\n",
    "import numpy as np"
   ]
  },
  {
   "cell_type": "code",
   "execution_count": 13,
   "id": "0dbce250",
   "metadata": {},
   "outputs": [],
   "source": [
    "flows = pd.read_csv(r\"..\\..\\UK-wood-mfa\\build\\flows.csv\")\n",
    "flows_obs= pd.read_csv(r'..\\..\\UK-wood-mfa\\build\\flows_obs.csv')\n",
    "Observations = pd.read_excel(r\"..\\..\\UK-wood-mfa\\data\\observations_with_references.xlsx\")\n",
    "flows_name = pd.read_excel(r'..\\..\\UK-wood-mfa\\lists\\flows_name.xlsx')\n",
    "products_consumption = pd.read_excel(r'..\\..\\UK-wood-mfa\\data_analysis\\finished_products_consumption.xlsx')\n",
    "products_consumption = products_consumption.set_index(['target'])\n",
    "\n"
   ]
  },
  {
   "cell_type": "code",
   "execution_count": 14,
   "id": "f6915b21",
   "metadata": {},
   "outputs": [],
   "source": [
    "flows_name = list(flows_name.to_records())\n",
    "flows_obs_list = list(flows_obs.to_records())"
   ]
  },
  {
   "cell_type": "code",
   "execution_count": 15,
   "id": "67764174",
   "metadata": {},
   "outputs": [],
   "source": [
    "link = 'http://ukfires.org/analyses/UK-wood/system/'\n",
    "Consumption = 'Consumption'"
   ]
  },
  {
   "cell_type": "code",
   "execution_count": 16,
   "id": "901c0414",
   "metadata": {},
   "outputs": [
    {
     "name": "stderr",
     "output_type": "stream",
     "text": [
      "C:\\Users\\rla44\\AppData\\Local\\Temp\\ipykernel_1648\\2277334706.py:127: FutureWarning: The default value of numeric_only in DataFrameGroupBy.sum is deprecated. In a future version, numeric_only will default to False. Either specify numeric_only or select only columns which should be valid for the function.\n",
      "  consumed_products = consumed_products.groupby(['target','sample']).sum()\n"
     ]
    }
   ],
   "source": [
    "#UK consumption of finished products\n",
    "link = 'http://ukfires.org/analyses/UK-wood/system/'\n",
    "consumed_products = []\n",
    "for flow in flows_name:\n",
    "            consumption_flow_products = flows.loc[(flows['material'] == flow[3]) \n",
    "                                       & (flows['source'] == flow[1])\n",
    "                                       & (flows['target'] == flow[2])]\n",
    "            if (((link + 'PackagingConsumption') in flow[2])\n",
    "                or ((link + 'GraphicPapersConsumption') in flow[2])\n",
    "                or ((link + 'SanitaryPapersConsumption') in flow[2])\n",
    "                or ((link + 'OtherPaperProductsConsumption') in flow[2])\n",
    "                 \n",
    "\n",
    "                or ((link + 'WindowsConsumption') in flow[2]) \n",
    "                or ((link + 'DoorsConsumption') in flow[2])\n",
    "                or ((link + 'FlooringConsumption') in flow[2])\n",
    "                \n",
    "                or ((link + 'PalletsConsumption') in flow[2])\n",
    "                or ((link + 'RefurbishedPalletsConsumption') in flow[2])\n",
    "                or ((link + 'OtherWoodContainersConsumption') in flow[2])\n",
    "                 \n",
    "                or ((link + 'DeckingConsumption') in flow[2])\n",
    "                or ((link + 'FencingPostsConsumption') in flow[2])\n",
    "                or ((link + 'WoodenOutbuildingsConsumption') in flow[2])\n",
    "                or ((link + 'FencingRailsAnsBoardsConsumption') in flow[2])\n",
    "                 \n",
    "                 \n",
    "                or ((link + 'OtherEnergyFeedstocksConsumption') in flow[2])\n",
    "                or ((link + 'PreConsumerWasteProductsConsumption') in flow[2])\n",
    "                or ((link + 'WoodCharcoalConsumption') in flow[2])\n",
    "                \n",
    "                or ((link + 'WoodPelletsConsumption') in flow[2])\n",
    "                 or ((link + 'WoodWoolAndFlourConsumption') in flow[2])\n",
    "                or ((link + 'OtherEngineeredWoodProductsConsumption') in flow[2])\n",
    "                 \n",
    "                or ((link + 'WoodFloorFramingForNewStructures') in flow[2])\n",
    "                or ((link + 'WoodRoofsForNewStructures') in flow[2])\n",
    "                or ((link + 'WoodFramesForNewStructures') in flow[2])\n",
    "                 \n",
    "                or ((link + 'RenovationsSawnwoodConsumption') in flow[2])\n",
    "                or ((link + 'SawnwoodToRMIAndOtherConsumption') in flow[2])\n",
    "                or ((link + 'ParticleboardToRMIAndOtherConsumption') in flow[2])\n",
    "                or ((link + 'PlywoodToRMIAndOtherConsumption') in flow[2])\n",
    "                 \n",
    "                or ((link + 'WoodenKitchenFurnitureConsumption') in flow[2])\n",
    "                or ((link + 'WoodenSeatsConsumption') in flow[2])\n",
    "                or ((link + 'WoodenBedroomFurnitureConsumption') in flow[2])\n",
    "                or ((link + 'WoodenOfficeFurnitureConsumption') in flow[2])\n",
    "                or ((link + 'WoodenOtherFurnitureConsumption') in flow[2])\n",
    "                 \n",
    "                or ((link + 'FormworkScaffoldingConsumption') in flow[2])\n",
    "                or ((link + 'OtherObjectsConsumption') in flow[2]\n",
    "                or ((link + 'FibreboardToRMIAndOtherConsumption') in flow[2])\n",
    "                or ((link + 'RailwaySleepersConsumption' ) in flow[2]))):\n",
    "                    if ((('exports') not in flow[2])\n",
    "                        and (('imports') not in flow[1])\n",
    "                       # and (('Consumption') not in flow[2])\n",
    "                        and (('Manufacturing') not in flow[2])\n",
    "                        and (('WoodFibres') not in flow[2])\n",
    "                        and (('Roundwood') not in flow[2])\n",
    "                        and (('PostConsumerWood') not in flow[2])\n",
    "                        and (('Production') not in flow[2])\n",
    "                        and (('ByProducts') not in flow[2])):\n",
    "                                                            \n",
    "                            consumption_flow_products = consumption_flow_products.set_index(\"target\")\n",
    "                          \n",
    "\n",
    "\n",
    "                            consumption_products_renamed= consumption_flow_products.rename(index={\n",
    "                                                                                                  link + 'OtherObjectsConsumption' : 'Total',\n",
    "                                                                                                   link + 'FormworkScaffoldingConsumption': 'Total',\n",
    "                                                                                                   link + 'RailwaySleepersConsumption' : 'Total',\n",
    "                                                                                                    link + 'WoodCharcoalConsumption': 'Other energy feedstocks',\n",
    "                                                                                                   link + 'WoodWoolAndFlourConsumption' : 'Other objects',\n",
    "                                                                                                    link + 'OtherEngineeredWoodProductsConsumption' : 'Other engineered products to construction',\n",
    "                                                                                                   link + 'GraphicPapersConsumption': 'Total',\n",
    "                                                                                                   link + 'WindowsConsumption': 'Total',\n",
    "                                                                                                   link + 'DoorsConsumption': 'Total',\n",
    "                                                                                                   link + 'FlooringConsumption': 'Total',\n",
    "                                                                                                   link + 'PreConsumerWasteProductsConsumption': 'Total',\n",
    "                                                                                                   link + 'OtherWoodContainersConsumption':'Total',\n",
    "                                                                                                   link + 'SanitaryPapersConsumption': 'Total',\n",
    "                                                                                                   link + 'PackagingConsumption':'Total',\n",
    "                                                                                                   link + 'PalletsConsumption' : 'Total',\n",
    "                                                                                                   link + 'RefurbishedPalletsConsumption' : 'Total',\n",
    "                                                                                                   link + 'OtherPaperProductsConsumption': 'Total',\n",
    "                                                                                                   link + 'WoodenKitchenFurnitureConsumption' : 'Total',\n",
    "                                                                                                   link + 'WoodenSeatsConsumption': 'Total',\n",
    "                                                                                                   link + 'WoodenBedroomFurnitureConsumption': 'Total',\n",
    "                                                                                                   link + 'WoodenOfficeFurnitureConsumption': 'Total',\n",
    "                                                                                                   link + 'WoodenOtherFurnitureConsumption': 'Total',\n",
    "\n",
    "                                                                                        \n",
    "                                                                                                   link + 'PreConsumerWasteProductsConsumption':'Total',\n",
    "                                                                                                   link + 'PreConsumerWasteConstructionConsumption': 'Total',\n",
    "\n",
    "                                                                                                   link + 'WoodenOutbuildingsConsumption':'Total',\n",
    "                                                                                                   link + 'FencingRailsAndBoardsConsumption': 'Total',\n",
    "                                                                                                   link + 'FencingPostsConsumption': 'Total',\n",
    "                                                                                                   link + 'DeckingConsumption': 'Total',\n",
    "\n",
    "                                                                                                   link + 'OtherEnergyFeedstocksConsumption': 'Total',\n",
    "\n",
    "\n",
    "                                                                                                   link + 'WoodPelletsConsumption':'Total',\n",
    "\n",
    "\n",
    "                                                                                                   link + 'WoodFloorFramingForNewStructures': 'Total',\n",
    "                                                                                                   link + 'WoodRoofsForNewStructures': 'Total',\n",
    "                                                                                                   link + 'WoodFramesForNewStructures': 'Total',\n",
    "\n",
    "                                                                                                   link + 'RenovationsSawnwoodConsumption': 'Total',\n",
    "                                                                                                   link + 'SawnwoodToRMIAndOtherConsumption': 'Total',\n",
    "                                                                                                   link + 'ParticleboardToRMIAndOtherConsumption': 'Total',\n",
    "                                                                                                   link + 'PlywoodToRMIAndOtherConsumption': 'Total',\n",
    "                                                                                                   link + 'FibreboardToRMIAndOtherConsumption': 'Total',\n",
    "                                                                                                    })\n",
    "\n",
    "\n",
    "                            consumed_products.append(consumption_products_renamed)\n",
    "\n",
    "                   \n",
    "consumed_products = pd.concat(consumed_products)  \n",
    "\n",
    "\n",
    "consumed_products= consumed_products.reset_index(level='target')\n",
    "consumed_products = consumed_products.groupby(['target','sample']).sum()\n",
    "consumed_products = consumed_products.reset_index(level='sample')\n",
    "consumed_products= consumed_products.reset_index(level='target')\n",
    "consumed_products.to_clipboard()\n",
    "consumed_products['value']=consumed_products['value'] / 1000000000\n",
    "consumed_products.to_clipboard()"
   ]
  },
  {
   "cell_type": "code",
   "execution_count": 17,
   "id": "ddea0754",
   "metadata": {},
   "outputs": [],
   "source": [
    "custom_order = [\n",
    "    \"Total\",\n",
    "  \n",
    "]\n",
    "\n",
    "# Convert 'target' column to a categorical data type with the custom order\n",
    "consumed_products[\"target\"] = pd.Categorical(consumed_products[\"target\"], categories=custom_order, ordered=True)\n",
    "\n",
    "# Sort the DataFrame based on the 'target' column\n",
    "consumed_products_sorted = consumed_products.sort_values(by=\"target\")\n",
    "\n",
    "# Reset the index to maintain a continuous index\n",
    "consumed_products_sorted = consumed_products_sorted.reset_index(drop=True)\n"
   ]
  },
  {
   "cell_type": "code",
   "execution_count": 18,
   "id": "aeff6d57",
   "metadata": {},
   "outputs": [],
   "source": [
    "Means = consumed_products_sorted.groupby('target')['value'].mean()\n",
    "df= pd.DataFrame(Means)\n"
   ]
  },
  {
   "cell_type": "code",
   "execution_count": 19,
   "id": "a7089eda",
   "metadata": {},
   "outputs": [
    {
     "name": "stdout",
     "output_type": "stream",
     "text": [
      "      target  sample      value      quantity\n",
      "0        NaN       0   0.091054  9.105384e+07\n",
      "1        NaN       1   0.118185  1.181849e+08\n",
      "2        NaN       2   0.116447  1.164471e+08\n",
      "3        NaN       3   0.132844  1.328442e+08\n",
      "4        NaN       4   0.113496  1.134961e+08\n",
      "...      ...     ...        ...           ...\n",
      "29995  Total    9995  67.827205  6.727043e+10\n",
      "29996  Total    9996  68.939501  6.837791e+10\n",
      "29997  Total    9997  69.776675  6.918778e+10\n",
      "29998  Total    9998  69.629417  6.903008e+10\n",
      "29999  Total    9999  65.532906  6.497247e+10\n",
      "\n",
      "[30000 rows x 4 columns]\n"
     ]
    }
   ],
   "source": [
    "print(consumed_products)"
   ]
  },
  {
   "cell_type": "code",
   "execution_count": 20,
   "id": "4605e6b0",
   "metadata": {
    "scrolled": false
   },
   "outputs": [
    {
     "data": {
      "image/png": "[encoded data removed]",
      "text/plain": [
       "<Figure size 640x480 with 1 Axes>"
      ]
     },
     "metadata": {},
     "output_type": "display_data"
    },
    {
     "data": {
      "text/html": [
       "<div>\n",
       "<style scoped>\n",
       "    .dataframe tbody tr th:only-of-type {\n",
       "        vertical-align: middle;\n",
       "    }\n",
       "\n",
       "    .dataframe tbody tr th {\n",
       "        vertical-align: top;\n",
       "    }\n",
       "\n",
       "    .dataframe thead th {\n",
       "        text-align: right;\n",
       "    }\n",
       "</style>\n",
       "<table border=\"1\" class=\"dataframe\">\n",
       "  <thead>\n",
       "    <tr style=\"text-align: right;\">\n",
       "      <th></th>\n",
       "      <th>Object</th>\n",
       "      <th>Uncertainty index</th>\n",
       "      <th>min</th>\n",
       "      <th>max</th>\n",
       "      <th>mean</th>\n",
       "      <th>median</th>\n",
       "      <th>diff_min</th>\n",
       "      <th>diff_max</th>\n",
       "    </tr>\n",
       "  </thead>\n",
       "  <tbody>\n",
       "    <tr>\n",
       "      <th>0</th>\n",
       "      <td>Total</td>\n",
       "      <td>0.129729</td>\n",
       "      <td>64.567975</td>\n",
       "      <td>73.519794</td>\n",
       "      <td>69.003733</td>\n",
       "      <td>68.994198</td>\n",
       "      <td>4.435758</td>\n",
       "      <td>-4.516062</td>\n",
       "    </tr>\n",
       "  </tbody>\n",
       "</table>\n",
       "</div>"
      ],
      "text/plain": [
       "  Object  Uncertainty index        min        max       mean     median  \\\n",
       "0  Total           0.129729  64.567975  73.519794  69.003733  68.994198   \n",
       "\n",
       "   diff_min  diff_max  \n",
       "0  4.435758 -4.516062  "
      ]
     },
     "execution_count": 20,
     "metadata": {},
     "output_type": "execute_result"
    }
   ],
   "source": [
    "import seaborn as sns\n",
    "import matplotlib.pyplot as plt\n",
    "\n",
    "         \n",
    "\n",
    "sns.violinplot(\n",
    "    x=\"value\",\n",
    "    y=\"target\",\n",
    "    width=1,\n",
    "   # hue= \"target\",\n",
    "    data=consumed_products,\n",
    "    linewidth=0.2,\n",
    "   # hue=\"target\",\n",
    "    density_norm=\"width\",\n",
    "    orient=\"h\",\n",
    "    inner_kws=dict(box_width=8, whis_width=2, color=\"black\"),\n",
    "    inner=\"box\",\n",
    "    cut=0,\n",
    "    zorder=1,\n",
    ")\n",
    "\n",
    "# Set the title of the plot\n",
    "plt.title(\"\")\n",
    "\n",
    "# Calculate the difference ratio for each unique 'target'\n",
    "difference_ratios = []  # List to store the ratios\n",
    "\n",
    "# Group the data by 'target'\n",
    "grouped = consumed_products.groupby(\"target\")\n",
    "\n",
    "for name, group in grouped:\n",
    "    data = group[\"value\"]\n",
    "    k = 1.5\n",
    "\n",
    "    # Calculate quartiles and IQR\n",
    "    Q1 = np.percentile(data, 25)\n",
    "    Q3 = np.percentile(data, 75)\n",
    "    IQR = Q3 - Q1\n",
    "\n",
    "    # Calculate bounds for outlier detection\n",
    "    lower_bound = Q1 - k * IQR\n",
    "    upper_bound = Q3 + k * IQR\n",
    "\n",
    "    # Exclude outliers\n",
    "    filtered_data = [x for x in data if lower_bound <= x <= upper_bound]\n",
    "\n",
    "    # Calculate minimum and maximum within the non-outlier range\n",
    "    min_non_outlier = np.min(filtered_data)\n",
    "    max_non_outlier = np.max(filtered_data)\n",
    "    \n",
    "    mean_val = group[\"value\"].mean()\n",
    "    median_val = group[\"value\"].median()\n",
    "    Diff_min =  mean_val - min_non_outlier\n",
    "    Diff_max =  mean_val - max_non_outlier\n",
    "\n",
    "    difference_ratio = (max_non_outlier - min_non_outlier) / mean_val\n",
    "\n",
    "    difference_ratios.append((name, difference_ratio,min_non_outlier,max_non_outlier, mean_val,median_val, Diff_min, Diff_max) )  # Store the target name and ratio\n",
    "    \n",
    "    \n",
    "difference_ratios\n",
    "plt.grid(True)\n",
    "\n",
    "plt.show()\n",
    "\n",
    "difference_ratio_df = pd.DataFrame(difference_ratios, columns=['Object', 'Uncertainty index', 'min', 'max', 'mean', 'median', 'diff_min', 'diff_max'])\n",
    "difference_ratio_df"
   ]
  },
  {
   "cell_type": "code",
   "execution_count": 21,
   "id": "8dec8d95",
   "metadata": {},
   "outputs": [
    {
     "name": "stderr",
     "output_type": "stream",
     "text": [
      "C:\\Users\\rla44\\AppData\\Local\\Temp\\ipykernel_1648\\1195321782.py:10: RuntimeWarning: invalid value encountered in scalar divide\n",
      "  normalized_value = (val - min_val) / (max_val - min_val)\n"
     ]
    },
    {
     "ename": "ValueError",
     "evalue": "cannot convert float NaN to integer",
     "output_type": "error",
     "traceback": [
      "\u001b[1;31m---------------------------------------------------------------------------\u001b[0m",
      "\u001b[1;31mValueError\u001b[0m                                Traceback (most recent call last)",
      "File \u001b[1;32m~\\Anaconda3\\envs\\UK-wood-mfa\\lib\\site-packages\\IPython\\core\\formatters.py:342\u001b[0m, in \u001b[0;36mBaseFormatter.__call__\u001b[1;34m(self, obj)\u001b[0m\n\u001b[0;32m    340\u001b[0m     method \u001b[38;5;241m=\u001b[39m get_real_method(obj, \u001b[38;5;28mself\u001b[39m\u001b[38;5;241m.\u001b[39mprint_method)\n\u001b[0;32m    341\u001b[0m     \u001b[38;5;28;01mif\u001b[39;00m method \u001b[38;5;129;01mis\u001b[39;00m \u001b[38;5;129;01mnot\u001b[39;00m \u001b[38;5;28;01mNone\u001b[39;00m:\n\u001b[1;32m--> 342\u001b[0m         \u001b[38;5;28;01mreturn\u001b[39;00m \u001b[43mmethod\u001b[49m\u001b[43m(\u001b[49m\u001b[43m)\u001b[49m\n\u001b[0;32m    343\u001b[0m     \u001b[38;5;28;01mreturn\u001b[39;00m \u001b[38;5;28;01mNone\u001b[39;00m\n\u001b[0;32m    344\u001b[0m \u001b[38;5;28;01melse\u001b[39;00m:\n",
      "File \u001b[1;32m~\\Anaconda3\\envs\\UK-wood-mfa\\lib\\site-packages\\pandas\\io\\formats\\style.py:385\u001b[0m, in \u001b[0;36mStyler._repr_html_\u001b[1;34m(self)\u001b[0m\n\u001b[0;32m    380\u001b[0m \u001b[38;5;250m\u001b[39m\u001b[38;5;124;03m\"\"\"\u001b[39;00m\n\u001b[0;32m    381\u001b[0m \u001b[38;5;124;03mHooks into Jupyter notebook rich display system, which calls _repr_html_ by\u001b[39;00m\n\u001b[0;32m    382\u001b[0m \u001b[38;5;124;03mdefault if an object is returned at the end of a cell.\u001b[39;00m\n\u001b[0;32m    383\u001b[0m \u001b[38;5;124;03m\"\"\"\u001b[39;00m\n\u001b[0;32m    384\u001b[0m \u001b[38;5;28;01mif\u001b[39;00m get_option(\u001b[38;5;124m\"\u001b[39m\u001b[38;5;124mstyler.render.repr\u001b[39m\u001b[38;5;124m\"\u001b[39m) \u001b[38;5;241m==\u001b[39m \u001b[38;5;124m\"\u001b[39m\u001b[38;5;124mhtml\u001b[39m\u001b[38;5;124m\"\u001b[39m:\n\u001b[1;32m--> 385\u001b[0m     \u001b[38;5;28;01mreturn\u001b[39;00m \u001b[38;5;28;43mself\u001b[39;49m\u001b[38;5;241;43m.\u001b[39;49m\u001b[43mto_html\u001b[49m\u001b[43m(\u001b[49m\u001b[43m)\u001b[49m\n\u001b[0;32m    386\u001b[0m \u001b[38;5;28;01mreturn\u001b[39;00m \u001b[38;5;28;01mNone\u001b[39;00m\n",
      "File \u001b[1;32m~\\Anaconda3\\envs\\UK-wood-mfa\\lib\\site-packages\\pandas\\io\\formats\\style.py:1377\u001b[0m, in \u001b[0;36mStyler.to_html\u001b[1;34m(self, buf, table_uuid, table_attributes, sparse_index, sparse_columns, bold_headers, caption, max_rows, max_columns, encoding, doctype_html, exclude_styles, **kwargs)\u001b[0m\n\u001b[0;32m   1374\u001b[0m     obj\u001b[38;5;241m.\u001b[39mset_caption(caption)\n\u001b[0;32m   1376\u001b[0m \u001b[38;5;66;03m# Build HTML string..\u001b[39;00m\n\u001b[1;32m-> 1377\u001b[0m html \u001b[38;5;241m=\u001b[39m obj\u001b[38;5;241m.\u001b[39m_render_html(\n\u001b[0;32m   1378\u001b[0m     sparse_index\u001b[38;5;241m=\u001b[39msparse_index,\n\u001b[0;32m   1379\u001b[0m     sparse_columns\u001b[38;5;241m=\u001b[39msparse_columns,\n\u001b[0;32m   1380\u001b[0m     max_rows\u001b[38;5;241m=\u001b[39mmax_rows,\n\u001b[0;32m   1381\u001b[0m     max_cols\u001b[38;5;241m=\u001b[39mmax_columns,\n\u001b[0;32m   1382\u001b[0m     exclude_styles\u001b[38;5;241m=\u001b[39mexclude_styles,\n\u001b[0;32m   1383\u001b[0m     encoding\u001b[38;5;241m=\u001b[39mencoding \u001b[38;5;129;01mor\u001b[39;00m get_option(\u001b[38;5;124m\"\u001b[39m\u001b[38;5;124mstyler.render.encoding\u001b[39m\u001b[38;5;124m\"\u001b[39m),\n\u001b[0;32m   1384\u001b[0m     doctype_html\u001b[38;5;241m=\u001b[39mdoctype_html,\n\u001b[0;32m   1385\u001b[0m     \u001b[38;5;241m*\u001b[39m\u001b[38;5;241m*\u001b[39mkwargs,\n\u001b[0;32m   1386\u001b[0m )\n\u001b[0;32m   1388\u001b[0m \u001b[38;5;28;01mreturn\u001b[39;00m save_to_buffer(\n\u001b[0;32m   1389\u001b[0m     html, buf\u001b[38;5;241m=\u001b[39mbuf, encoding\u001b[38;5;241m=\u001b[39m(encoding \u001b[38;5;28;01mif\u001b[39;00m buf \u001b[38;5;129;01mis\u001b[39;00m \u001b[38;5;129;01mnot\u001b[39;00m \u001b[38;5;28;01mNone\u001b[39;00m \u001b[38;5;28;01melse\u001b[39;00m \u001b[38;5;28;01mNone\u001b[39;00m)\n\u001b[0;32m   1390\u001b[0m )\n",
      "File \u001b[1;32m~\\Anaconda3\\envs\\UK-wood-mfa\\lib\\site-packages\\pandas\\io\\formats\\style_render.py:206\u001b[0m, in \u001b[0;36mStylerRenderer._render_html\u001b[1;34m(self, sparse_index, sparse_columns, max_rows, max_cols, **kwargs)\u001b[0m\n\u001b[0;32m    194\u001b[0m \u001b[38;5;28;01mdef\u001b[39;00m \u001b[38;5;21m_render_html\u001b[39m(\n\u001b[0;32m    195\u001b[0m     \u001b[38;5;28mself\u001b[39m,\n\u001b[0;32m    196\u001b[0m     sparse_index: \u001b[38;5;28mbool\u001b[39m,\n\u001b[1;32m   (...)\u001b[0m\n\u001b[0;32m    200\u001b[0m     \u001b[38;5;241m*\u001b[39m\u001b[38;5;241m*\u001b[39mkwargs,\n\u001b[0;32m    201\u001b[0m ) \u001b[38;5;241m-\u001b[39m\u001b[38;5;241m>\u001b[39m \u001b[38;5;28mstr\u001b[39m:\n\u001b[0;32m    202\u001b[0m \u001b[38;5;250m    \u001b[39m\u001b[38;5;124;03m\"\"\"\u001b[39;00m\n\u001b[0;32m    203\u001b[0m \u001b[38;5;124;03m    Renders the ``Styler`` including all applied styles to HTML.\u001b[39;00m\n\u001b[0;32m    204\u001b[0m \u001b[38;5;124;03m    Generates a dict with necessary kwargs passed to jinja2 template.\u001b[39;00m\n\u001b[0;32m    205\u001b[0m \u001b[38;5;124;03m    \"\"\"\u001b[39;00m\n\u001b[1;32m--> 206\u001b[0m     d \u001b[38;5;241m=\u001b[39m \u001b[38;5;28;43mself\u001b[39;49m\u001b[38;5;241;43m.\u001b[39;49m\u001b[43m_render\u001b[49m\u001b[43m(\u001b[49m\u001b[43msparse_index\u001b[49m\u001b[43m,\u001b[49m\u001b[43m \u001b[49m\u001b[43msparse_columns\u001b[49m\u001b[43m,\u001b[49m\u001b[43m \u001b[49m\u001b[43mmax_rows\u001b[49m\u001b[43m,\u001b[49m\u001b[43m \u001b[49m\u001b[43mmax_cols\u001b[49m\u001b[43m,\u001b[49m\u001b[43m \u001b[49m\u001b[38;5;124;43m\"\u001b[39;49m\u001b[38;5;124;43m&nbsp;\u001b[39;49m\u001b[38;5;124;43m\"\u001b[39;49m\u001b[43m)\u001b[49m\n\u001b[0;32m    207\u001b[0m     d\u001b[38;5;241m.\u001b[39mupdate(kwargs)\n\u001b[0;32m    208\u001b[0m     \u001b[38;5;28;01mreturn\u001b[39;00m \u001b[38;5;28mself\u001b[39m\u001b[38;5;241m.\u001b[39mtemplate_html\u001b[38;5;241m.\u001b[39mrender(\n\u001b[0;32m    209\u001b[0m         \u001b[38;5;241m*\u001b[39m\u001b[38;5;241m*\u001b[39md,\n\u001b[0;32m    210\u001b[0m         html_table_tpl\u001b[38;5;241m=\u001b[39m\u001b[38;5;28mself\u001b[39m\u001b[38;5;241m.\u001b[39mtemplate_html_table,\n\u001b[0;32m    211\u001b[0m         html_style_tpl\u001b[38;5;241m=\u001b[39m\u001b[38;5;28mself\u001b[39m\u001b[38;5;241m.\u001b[39mtemplate_html_style,\n\u001b[0;32m    212\u001b[0m     )\n",
      "File \u001b[1;32m~\\Anaconda3\\envs\\UK-wood-mfa\\lib\\site-packages\\pandas\\io\\formats\\style_render.py:163\u001b[0m, in \u001b[0;36mStylerRenderer._render\u001b[1;34m(self, sparse_index, sparse_columns, max_rows, max_cols, blank)\u001b[0m\n\u001b[0;32m    149\u001b[0m \u001b[38;5;28;01mdef\u001b[39;00m \u001b[38;5;21m_render\u001b[39m(\n\u001b[0;32m    150\u001b[0m     \u001b[38;5;28mself\u001b[39m,\n\u001b[0;32m    151\u001b[0m     sparse_index: \u001b[38;5;28mbool\u001b[39m,\n\u001b[1;32m   (...)\u001b[0m\n\u001b[0;32m    155\u001b[0m     blank: \u001b[38;5;28mstr\u001b[39m \u001b[38;5;241m=\u001b[39m \u001b[38;5;124m\"\u001b[39m\u001b[38;5;124m\"\u001b[39m,\n\u001b[0;32m    156\u001b[0m ):\n\u001b[0;32m    157\u001b[0m \u001b[38;5;250m    \u001b[39m\u001b[38;5;124;03m\"\"\"\u001b[39;00m\n\u001b[0;32m    158\u001b[0m \u001b[38;5;124;03m    Computes and applies styles and then generates the general render dicts.\u001b[39;00m\n\u001b[0;32m    159\u001b[0m \n\u001b[0;32m    160\u001b[0m \u001b[38;5;124;03m    Also extends the `ctx` and `ctx_index` attributes with those of concatenated\u001b[39;00m\n\u001b[0;32m    161\u001b[0m \u001b[38;5;124;03m    stylers for use within `_translate_latex`\u001b[39;00m\n\u001b[0;32m    162\u001b[0m \u001b[38;5;124;03m    \"\"\"\u001b[39;00m\n\u001b[1;32m--> 163\u001b[0m     \u001b[38;5;28;43mself\u001b[39;49m\u001b[38;5;241;43m.\u001b[39;49m\u001b[43m_compute\u001b[49m\u001b[43m(\u001b[49m\u001b[43m)\u001b[49m\n\u001b[0;32m    164\u001b[0m     dxs \u001b[38;5;241m=\u001b[39m []\n\u001b[0;32m    165\u001b[0m     ctx_len \u001b[38;5;241m=\u001b[39m \u001b[38;5;28mlen\u001b[39m(\u001b[38;5;28mself\u001b[39m\u001b[38;5;241m.\u001b[39mindex)\n",
      "File \u001b[1;32m~\\Anaconda3\\envs\\UK-wood-mfa\\lib\\site-packages\\pandas\\io\\formats\\style_render.py:258\u001b[0m, in \u001b[0;36mStylerRenderer._compute\u001b[1;34m(self)\u001b[0m\n\u001b[0;32m    256\u001b[0m r \u001b[38;5;241m=\u001b[39m \u001b[38;5;28mself\u001b[39m\n\u001b[0;32m    257\u001b[0m \u001b[38;5;28;01mfor\u001b[39;00m func, args, kwargs \u001b[38;5;129;01min\u001b[39;00m \u001b[38;5;28mself\u001b[39m\u001b[38;5;241m.\u001b[39m_todo:\n\u001b[1;32m--> 258\u001b[0m     r \u001b[38;5;241m=\u001b[39m func(\u001b[38;5;28mself\u001b[39m)(\u001b[38;5;241m*\u001b[39margs, \u001b[38;5;241m*\u001b[39m\u001b[38;5;241m*\u001b[39mkwargs)\n\u001b[0;32m    259\u001b[0m \u001b[38;5;28;01mreturn\u001b[39;00m r\n",
      "File \u001b[1;32m~\\Anaconda3\\envs\\UK-wood-mfa\\lib\\site-packages\\pandas\\io\\formats\\style.py:2000\u001b[0m, in \u001b[0;36mStyler._applymap\u001b[1;34m(self, func, subset, **kwargs)\u001b[0m\n\u001b[0;32m   1998\u001b[0m     subset \u001b[38;5;241m=\u001b[39m IndexSlice[:]\n\u001b[0;32m   1999\u001b[0m subset \u001b[38;5;241m=\u001b[39m non_reducing_slice(subset)\n\u001b[1;32m-> 2000\u001b[0m result \u001b[38;5;241m=\u001b[39m \u001b[38;5;28;43mself\u001b[39;49m\u001b[38;5;241;43m.\u001b[39;49m\u001b[43mdata\u001b[49m\u001b[38;5;241;43m.\u001b[39;49m\u001b[43mloc\u001b[49m\u001b[43m[\u001b[49m\u001b[43msubset\u001b[49m\u001b[43m]\u001b[49m\u001b[38;5;241;43m.\u001b[39;49m\u001b[43mapplymap\u001b[49m\u001b[43m(\u001b[49m\u001b[43mfunc\u001b[49m\u001b[43m)\u001b[49m\n\u001b[0;32m   2001\u001b[0m \u001b[38;5;28mself\u001b[39m\u001b[38;5;241m.\u001b[39m_update_ctx(result)\n\u001b[0;32m   2002\u001b[0m \u001b[38;5;28;01mreturn\u001b[39;00m \u001b[38;5;28mself\u001b[39m\n",
      "File \u001b[1;32m~\\Anaconda3\\envs\\UK-wood-mfa\\lib\\site-packages\\pandas\\core\\frame.py:9653\u001b[0m, in \u001b[0;36mDataFrame.applymap\u001b[1;34m(self, func, na_action, **kwargs)\u001b[0m\n\u001b[0;32m   9650\u001b[0m         \u001b[38;5;28;01mreturn\u001b[39;00m lib\u001b[38;5;241m.\u001b[39mmap_infer(x, func, ignore_na\u001b[38;5;241m=\u001b[39mignore_na)\n\u001b[0;32m   9651\u001b[0m     \u001b[38;5;28;01mreturn\u001b[39;00m lib\u001b[38;5;241m.\u001b[39mmap_infer(x\u001b[38;5;241m.\u001b[39mastype(\u001b[38;5;28mobject\u001b[39m)\u001b[38;5;241m.\u001b[39m_values, func, ignore_na\u001b[38;5;241m=\u001b[39mignore_na)\n\u001b[1;32m-> 9653\u001b[0m \u001b[38;5;28;01mreturn\u001b[39;00m \u001b[38;5;28;43mself\u001b[39;49m\u001b[38;5;241;43m.\u001b[39;49m\u001b[43mapply\u001b[49m\u001b[43m(\u001b[49m\u001b[43minfer\u001b[49m\u001b[43m)\u001b[49m\u001b[38;5;241m.\u001b[39m__finalize__(\u001b[38;5;28mself\u001b[39m, \u001b[38;5;124m\"\u001b[39m\u001b[38;5;124mapplymap\u001b[39m\u001b[38;5;124m\"\u001b[39m)\n",
      "File \u001b[1;32m~\\Anaconda3\\envs\\UK-wood-mfa\\lib\\site-packages\\pandas\\core\\frame.py:9568\u001b[0m, in \u001b[0;36mDataFrame.apply\u001b[1;34m(self, func, axis, raw, result_type, args, **kwargs)\u001b[0m\n\u001b[0;32m   9557\u001b[0m \u001b[38;5;28;01mfrom\u001b[39;00m \u001b[38;5;21;01mpandas\u001b[39;00m\u001b[38;5;21;01m.\u001b[39;00m\u001b[38;5;21;01mcore\u001b[39;00m\u001b[38;5;21;01m.\u001b[39;00m\u001b[38;5;21;01mapply\u001b[39;00m \u001b[38;5;28;01mimport\u001b[39;00m frame_apply\n\u001b[0;32m   9559\u001b[0m op \u001b[38;5;241m=\u001b[39m frame_apply(\n\u001b[0;32m   9560\u001b[0m     \u001b[38;5;28mself\u001b[39m,\n\u001b[0;32m   9561\u001b[0m     func\u001b[38;5;241m=\u001b[39mfunc,\n\u001b[1;32m   (...)\u001b[0m\n\u001b[0;32m   9566\u001b[0m     kwargs\u001b[38;5;241m=\u001b[39mkwargs,\n\u001b[0;32m   9567\u001b[0m )\n\u001b[1;32m-> 9568\u001b[0m \u001b[38;5;28;01mreturn\u001b[39;00m \u001b[43mop\u001b[49m\u001b[38;5;241;43m.\u001b[39;49m\u001b[43mapply\u001b[49m\u001b[43m(\u001b[49m\u001b[43m)\u001b[49m\u001b[38;5;241m.\u001b[39m__finalize__(\u001b[38;5;28mself\u001b[39m, method\u001b[38;5;241m=\u001b[39m\u001b[38;5;124m\"\u001b[39m\u001b[38;5;124mapply\u001b[39m\u001b[38;5;124m\"\u001b[39m)\n",
      "File \u001b[1;32m~\\Anaconda3\\envs\\UK-wood-mfa\\lib\\site-packages\\pandas\\core\\apply.py:764\u001b[0m, in \u001b[0;36mFrameApply.apply\u001b[1;34m(self)\u001b[0m\n\u001b[0;32m    761\u001b[0m \u001b[38;5;28;01melif\u001b[39;00m \u001b[38;5;28mself\u001b[39m\u001b[38;5;241m.\u001b[39mraw:\n\u001b[0;32m    762\u001b[0m     \u001b[38;5;28;01mreturn\u001b[39;00m \u001b[38;5;28mself\u001b[39m\u001b[38;5;241m.\u001b[39mapply_raw()\n\u001b[1;32m--> 764\u001b[0m \u001b[38;5;28;01mreturn\u001b[39;00m \u001b[38;5;28;43mself\u001b[39;49m\u001b[38;5;241;43m.\u001b[39;49m\u001b[43mapply_standard\u001b[49m\u001b[43m(\u001b[49m\u001b[43m)\u001b[49m\n",
      "File \u001b[1;32m~\\Anaconda3\\envs\\UK-wood-mfa\\lib\\site-packages\\pandas\\core\\apply.py:891\u001b[0m, in \u001b[0;36mFrameApply.apply_standard\u001b[1;34m(self)\u001b[0m\n\u001b[0;32m    890\u001b[0m \u001b[38;5;28;01mdef\u001b[39;00m \u001b[38;5;21mapply_standard\u001b[39m(\u001b[38;5;28mself\u001b[39m):\n\u001b[1;32m--> 891\u001b[0m     results, res_index \u001b[38;5;241m=\u001b[39m \u001b[38;5;28;43mself\u001b[39;49m\u001b[38;5;241;43m.\u001b[39;49m\u001b[43mapply_series_generator\u001b[49m\u001b[43m(\u001b[49m\u001b[43m)\u001b[49m\n\u001b[0;32m    893\u001b[0m     \u001b[38;5;66;03m# wrap results\u001b[39;00m\n\u001b[0;32m    894\u001b[0m     \u001b[38;5;28;01mreturn\u001b[39;00m \u001b[38;5;28mself\u001b[39m\u001b[38;5;241m.\u001b[39mwrap_results(results, res_index)\n",
      "File \u001b[1;32m~\\Anaconda3\\envs\\UK-wood-mfa\\lib\\site-packages\\pandas\\core\\apply.py:907\u001b[0m, in \u001b[0;36mFrameApply.apply_series_generator\u001b[1;34m(self)\u001b[0m\n\u001b[0;32m    904\u001b[0m \u001b[38;5;28;01mwith\u001b[39;00m option_context(\u001b[38;5;124m\"\u001b[39m\u001b[38;5;124mmode.chained_assignment\u001b[39m\u001b[38;5;124m\"\u001b[39m, \u001b[38;5;28;01mNone\u001b[39;00m):\n\u001b[0;32m    905\u001b[0m     \u001b[38;5;28;01mfor\u001b[39;00m i, v \u001b[38;5;129;01min\u001b[39;00m \u001b[38;5;28menumerate\u001b[39m(series_gen):\n\u001b[0;32m    906\u001b[0m         \u001b[38;5;66;03m# ignore SettingWithCopy here in case the user mutates\u001b[39;00m\n\u001b[1;32m--> 907\u001b[0m         results[i] \u001b[38;5;241m=\u001b[39m \u001b[38;5;28;43mself\u001b[39;49m\u001b[38;5;241;43m.\u001b[39;49m\u001b[43mf\u001b[49m\u001b[43m(\u001b[49m\u001b[43mv\u001b[49m\u001b[43m)\u001b[49m\n\u001b[0;32m    908\u001b[0m         \u001b[38;5;28;01mif\u001b[39;00m \u001b[38;5;28misinstance\u001b[39m(results[i], ABCSeries):\n\u001b[0;32m    909\u001b[0m             \u001b[38;5;66;03m# If we have a view on v, we need to make a copy because\u001b[39;00m\n\u001b[0;32m    910\u001b[0m             \u001b[38;5;66;03m#  series_generator will swap out the underlying data\u001b[39;00m\n\u001b[0;32m    911\u001b[0m             results[i] \u001b[38;5;241m=\u001b[39m results[i]\u001b[38;5;241m.\u001b[39mcopy(deep\u001b[38;5;241m=\u001b[39m\u001b[38;5;28;01mFalse\u001b[39;00m)\n",
      "File \u001b[1;32m~\\Anaconda3\\envs\\UK-wood-mfa\\lib\\site-packages\\pandas\\core\\frame.py:9651\u001b[0m, in \u001b[0;36mDataFrame.applymap.<locals>.infer\u001b[1;34m(x)\u001b[0m\n\u001b[0;32m   9649\u001b[0m \u001b[38;5;28;01mif\u001b[39;00m x\u001b[38;5;241m.\u001b[39mempty:\n\u001b[0;32m   9650\u001b[0m     \u001b[38;5;28;01mreturn\u001b[39;00m lib\u001b[38;5;241m.\u001b[39mmap_infer(x, func, ignore_na\u001b[38;5;241m=\u001b[39mignore_na)\n\u001b[1;32m-> 9651\u001b[0m \u001b[38;5;28;01mreturn\u001b[39;00m \u001b[43mlib\u001b[49m\u001b[38;5;241;43m.\u001b[39;49m\u001b[43mmap_infer\u001b[49m\u001b[43m(\u001b[49m\u001b[43mx\u001b[49m\u001b[38;5;241;43m.\u001b[39;49m\u001b[43mastype\u001b[49m\u001b[43m(\u001b[49m\u001b[38;5;28;43mobject\u001b[39;49m\u001b[43m)\u001b[49m\u001b[38;5;241;43m.\u001b[39;49m\u001b[43m_values\u001b[49m\u001b[43m,\u001b[49m\u001b[43m \u001b[49m\u001b[43mfunc\u001b[49m\u001b[43m,\u001b[49m\u001b[43m \u001b[49m\u001b[43mignore_na\u001b[49m\u001b[38;5;241;43m=\u001b[39;49m\u001b[43mignore_na\u001b[49m\u001b[43m)\u001b[49m\n",
      "File \u001b[1;32m~\\Anaconda3\\envs\\UK-wood-mfa\\lib\\site-packages\\pandas\\_libs\\lib.pyx:2924\u001b[0m, in \u001b[0;36mpandas._libs.lib.map_infer\u001b[1;34m()\u001b[0m\n",
      "Cell \u001b[1;32mIn[21], line 15\u001b[0m, in \u001b[0;36m<lambda>\u001b[1;34m(x)\u001b[0m\n\u001b[0;32m     11\u001b[0m     r \u001b[38;5;241m=\u001b[39m \u001b[38;5;28mint\u001b[39m(\u001b[38;5;241m255\u001b[39m \u001b[38;5;241m*\u001b[39m (\u001b[38;5;241m1\u001b[39m \u001b[38;5;241m-\u001b[39m normalized_value))\n\u001b[0;32m     12\u001b[0m     \u001b[38;5;28;01mreturn\u001b[39;00m \u001b[38;5;124mf\u001b[39m\u001b[38;5;124m'\u001b[39m\u001b[38;5;124mbackground-color: rgba(255, \u001b[39m\u001b[38;5;132;01m{\u001b[39;00mr\u001b[38;5;132;01m}\u001b[39;00m\u001b[38;5;124m, 2, 0.5)\u001b[39m\u001b[38;5;124m'\u001b[39m\n\u001b[1;32m---> 15\u001b[0m styled_df \u001b[38;5;241m=\u001b[39m df\u001b[38;5;241m.\u001b[39mstyle\u001b[38;5;241m.\u001b[39mapplymap(\u001b[38;5;28;01mlambda\u001b[39;00m x: \u001b[43mgradient_color\u001b[49m\u001b[43m(\u001b[49m\u001b[43mx\u001b[49m\u001b[43m)\u001b[49m, subset\u001b[38;5;241m=\u001b[39m[\u001b[38;5;124m'\u001b[39m\u001b[38;5;124mUncertainty index\u001b[39m\u001b[38;5;124m'\u001b[39m])\n\u001b[0;32m     17\u001b[0m \u001b[38;5;66;03m# Display the styled DataFrame\u001b[39;00m\n\u001b[0;32m     19\u001b[0m styled_df\n",
      "Cell \u001b[1;32mIn[21], line 11\u001b[0m, in \u001b[0;36mgradient_color\u001b[1;34m(val)\u001b[0m\n\u001b[0;32m      9\u001b[0m min_val \u001b[38;5;241m=\u001b[39m df[\u001b[38;5;124m'\u001b[39m\u001b[38;5;124mUncertainty index\u001b[39m\u001b[38;5;124m'\u001b[39m]\u001b[38;5;241m.\u001b[39mmin()\n\u001b[0;32m     10\u001b[0m normalized_value \u001b[38;5;241m=\u001b[39m (val \u001b[38;5;241m-\u001b[39m min_val) \u001b[38;5;241m/\u001b[39m (max_val \u001b[38;5;241m-\u001b[39m min_val)\n\u001b[1;32m---> 11\u001b[0m r \u001b[38;5;241m=\u001b[39m \u001b[38;5;28;43mint\u001b[39;49m\u001b[43m(\u001b[49m\u001b[38;5;241;43m255\u001b[39;49m\u001b[43m \u001b[49m\u001b[38;5;241;43m*\u001b[39;49m\u001b[43m \u001b[49m\u001b[43m(\u001b[49m\u001b[38;5;241;43m1\u001b[39;49m\u001b[43m \u001b[49m\u001b[38;5;241;43m-\u001b[39;49m\u001b[43m \u001b[49m\u001b[43mnormalized_value\u001b[49m\u001b[43m)\u001b[49m\u001b[43m)\u001b[49m\n\u001b[0;32m     12\u001b[0m \u001b[38;5;28;01mreturn\u001b[39;00m \u001b[38;5;124mf\u001b[39m\u001b[38;5;124m'\u001b[39m\u001b[38;5;124mbackground-color: rgba(255, \u001b[39m\u001b[38;5;132;01m{\u001b[39;00mr\u001b[38;5;132;01m}\u001b[39;00m\u001b[38;5;124m, 2, 0.5)\u001b[39m\u001b[38;5;124m'\u001b[39m\n",
      "\u001b[1;31mValueError\u001b[0m: cannot convert float NaN to integer"
     ]
    },
    {
     "data": {
      "text/plain": [
       "<pandas.io.formats.style.Styler at 0x1cb156e2910>"
      ]
     },
     "execution_count": 21,
     "metadata": {},
     "output_type": "execute_result"
    }
   ],
   "source": [
    "# Sort the DataFrame by the 'Value' column in descending order\n",
    "df = difference_ratio_df .sort_values(by='Uncertainty index', ascending=False)\n",
    "df= df.set_index('Object')\n",
    "\n",
    "\n",
    "# Create a gradient color map for the 'Value' column\n",
    "def gradient_color(val):\n",
    "    max_val = df['Uncertainty index'].max()\n",
    "    min_val = df['Uncertainty index'].min()\n",
    "    normalized_value = (val - min_val) / (max_val - min_val)\n",
    "    r = int(255 * (1 - normalized_value))\n",
    "    return f'background-color: rgba(255, {r}, 2, 0.5)'\n",
    "\n",
    "\n",
    "styled_df = df.style.applymap(lambda x: gradient_color(x), subset=['Uncertainty index'])\n",
    "\n",
    "# Display the styled DataFrame\n",
    "\n",
    "styled_df"
   ]
  },
  {
   "cell_type": "code",
   "execution_count": 22,
   "id": "0662440e",
   "metadata": {},
   "outputs": [
    {
     "ename": "NameError",
     "evalue": "name 'fig' is not defined",
     "output_type": "error",
     "traceback": [
      "\u001b[1;31m---------------------------------------------------------------------------\u001b[0m",
      "\u001b[1;31mNameError\u001b[0m                                 Traceback (most recent call last)",
      "Cell \u001b[1;32mIn[22], line 6\u001b[0m\n\u001b[0;32m      2\u001b[0m file_path \u001b[38;5;241m=\u001b[39m \u001b[38;5;124mr\u001b[39m\u001b[38;5;124m'\u001b[39m\u001b[38;5;124mC:/Users\u001b[39m\u001b[38;5;124m\\\u001b[39m\u001b[38;5;124mrla44/OneDrive - University of Bath\u001b[39m\u001b[38;5;124m\\\u001b[39m\u001b[38;5;124mMFA graphs/sankey_diagram_3102023\u001b[39m\u001b[38;5;124m'\u001b[39m\n\u001b[0;32m      5\u001b[0m \u001b[38;5;66;03m# Save the plot with the specified file path\u001b[39;00m\n\u001b[1;32m----> 6\u001b[0m \u001b[43mfig\u001b[49m\u001b[38;5;241m.\u001b[39msavefig(file_path, \u001b[38;5;28mformat\u001b[39m\u001b[38;5;241m=\u001b[39m\u001b[38;5;124m'\u001b[39m\u001b[38;5;124mpdf\u001b[39m\u001b[38;5;124m'\u001b[39m)\n\u001b[0;32m      8\u001b[0m \u001b[38;5;66;03m# Optionally, specify DPI for higher quality\u001b[39;00m\n\u001b[0;32m      9\u001b[0m \u001b[38;5;66;03m# plt.savefig(file_path, format='pdf', dpi=300)\u001b[39;00m\n",
      "\u001b[1;31mNameError\u001b[0m: name 'fig' is not defined"
     ]
    }
   ],
   "source": [
    "# Specify the file path along with the file name\n",
    "file_path = r'C:/Users\\rla44/OneDrive - University of Bath\\MFA graphs/sankey_diagram_3102023'\n",
    "\n",
    "\n",
    "# Save the plot with the specified file path\n",
    "fig.savefig(file_path, format='pdf')\n",
    "\n",
    "# Optionally, specify DPI for higher quality\n",
    "# plt.savefig(file_path, format='pdf', dpi=300)"
   ]
  },
  {
   "cell_type": "code",
   "execution_count": null,
   "id": "e1334b11",
   "metadata": {},
   "outputs": [],
   "source": []
  },
  {
   "cell_type": "code",
   "execution_count": null,
   "id": "6f521289",
   "metadata": {},
   "outputs": [],
   "source": []
  },
  {
   "cell_type": "code",
   "execution_count": null,
   "id": "a3714a8e",
   "metadata": {},
   "outputs": [],
   "source": []
  }
 ],
 "metadata": {
  "kernelspec": {
   "display_name": "Python 3 (ipykernel)",
   "language": "python",
   "name": "python3"
  },
  "language_info": {
   "codemirror_mode": {
    "name": "ipython",
    "version": 3
   },
   "file_extension": ".py",
   "mimetype": "text/x-python",
   "name": "python",
   "nbconvert_exporter": "python",
   "pygments_lexer": "ipython3",
   "version": "3.9.16"
  }
 },
 "nbformat": 4,
 "nbformat_minor": 5
}
