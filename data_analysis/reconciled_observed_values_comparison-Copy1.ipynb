{
 "cells": [
  {
   "cell_type": "code",
   "execution_count": 1,
   "id": "032a8813",
   "metadata": {},
   "outputs": [],
   "source": [
    "import pandas as pd\n",
    "import matplotlib.pyplot as plt\n",
    "import statistics as stats\n",
    "import arviz as az"
   ]
  },
  {
   "cell_type": "code",
   "execution_count": 2,
   "id": "6aaa76f3",
   "metadata": {},
   "outputs": [],
   "source": [
    "flows = pd.read_csv(r'..\\..\\UK-wood-mfa\\build\\flows.csv')\n",
    "flows_obs= pd.read_csv(r'..\\..\\UK-wood-mfa\\build\\flows_obs.csv')\n",
    "Observations = pd.read_excel(r'..\\..\\UK-wood-mfa\\data\\Observations_with_references.xlsx')\n",
    "flows_name = pd.read_excel(r'..\\..\\UK-wood-mfa\\lists\\flows_name.xlsx')"
   ]
  },
  {
   "cell_type": "code",
   "execution_count": 3,
   "id": "56ebf5fc",
   "metadata": {},
   "outputs": [],
   "source": [
    "flows_name = list(flows_name.to_records())\n",
    "flows_obs_list = list(flows_obs.to_records())"
   ]
  },
  {
   "cell_type": "code",
   "execution_count": 4,
   "id": "5e7bdbf0",
   "metadata": {},
   "outputs": [],
   "source": [
    "link = 'http://ukfires.org/analyses/UK-wood/system/'\n",
    "Consumption = 'Consumption'"
   ]
  },
  {
   "cell_type": "code",
   "execution_count": 5,
   "id": "5e76c2a3",
   "metadata": {},
   "outputs": [
    {
     "name": "stdout",
     "output_type": "stream",
     "text": [
      "371\n"
     ]
    }
   ],
   "source": [
    "flows[\"flow_id\"] = flows['target'].astype(str) +\"-\"+ flows[\"source\"]+\"-\"+ flows[\"material\"]\n",
    "flow= flows[\"flow_id\"].tolist()\n",
    "flow_2 = list(dict.fromkeys(flow))\n",
    "print(len(flow_2))"
   ]
  },
  {
   "cell_type": "code",
   "execution_count": 6,
   "id": "23481ba5",
   "metadata": {
    "scrolled": false
   },
   "outputs": [],
   "source": [
    "#This notebook is comparing observed values to the reconciled (calculated) ones. \n",
    "#It extracts the observed values for each monte-carlo run from flows_obs and matches these values with the results extracted \n",
    "#from flows. \n",
    "\n",
    "calculated_= []\n",
    "observed_ = []\n",
    "flows_analysis = []\n",
    "t = 0\n",
    "s= 0\n",
    "flows_analysis = []\n",
    "for flow in flows_name:\n",
    "            calculated_2 = flows.loc[(flows['material'] == flow[3]) \n",
    "                                       & (flows['source'] == flow[1])\n",
    "                                       & (flows['target'] == flow[2])]\n",
    "            \n",
    "            \n",
    "            \n",
    "            Source= 'Source:' + flow[1].replace('http://ukfires.org/analyses/UK-wood/system/', '')\n",
    "            Target= ' Target:' + flow[2].replace('http://ukfires.org/analyses/UK-wood/system/', '') \n",
    "            Material= ' Material:' + flow[3].replace('http://ukfires.org/analyses/UK-wood/system/', '')\n",
    "        \n",
    "           \n",
    "            \n",
    "            \n",
    "            observed_2 = flows_obs.loc[((flows_obs['role'] == 'ProcessInputObs') & ((flows_obs['object']) == flow[1]) & ((flows_obs['process']) == flow[2]))\n",
    "                                           #   | ((flows_obs['role'] == 'ProcessOutput') & ((link + Observations['Process']) == flow[1]) & ((link + Observations['Object']) == flow[2]))\n",
    "                                              | ((flows_obs['role'] == 'ImportsObs') & (('imports ' + flows_obs['object']) == flow[1]))\n",
    "                                              | ((flows_obs['role'] == 'ExportsObs') & (('exports ' +  flows_obs['object']) == flow[2]))\n",
    "                                               | ((flows_obs['role'] == 'ProductionObs') & ((flows_obs['object'] + 'Manufacturing') == flow[1]) & ((flows_obs['object']) == flow[2]))\n",
    "                                               | ((flows_obs['role'] == 'ProductionObs')  & ((flows_obs['object']) == flow[2]))\n",
    "                                                | ((flows_obs['role'] == 'ProductionObs') & (('SawmillsSoftwood') == flow[1]) & ((flows_obs['object']) == flow[2]))]\n",
    "                                           #   | ((flows_obs['role'] == 'ProductionObs') & ((flows_obs['object']) == flow[2]))]\n",
    "            \n",
    "            \n",
    "            #Append the result of each iteration to the list\n",
    "    \n",
    "            #print(observed_2)   \n",
    "            \n",
    "            for i in range(10):\n",
    "                   \n",
    "                    calculated_flow = calculated_2[calculated_2['sample']== i]\n",
    "                    \n",
    "                    observed_flow = observed_2[observed_2['solution']== i]\n",
    "                    \n",
    "                    calculated_flow_value_ = calculated_flow['value']\n",
    "                    calculated_flow_value = calculated_flow_value_.tolist()\n",
    "\n",
    "              \n",
    "\n",
    "                    observed_flow_value_ = observed_flow['sampled_value']\n",
    "                    observed_flow_value = observed_flow_value_.to_list()\n",
    "                   \n",
    "\n",
    "                   # print(observed_flow_value)\n",
    "\n",
    "                 \n",
    "                    #hdi_diff= hdiupper-hdilower\n",
    "\n",
    "                    if calculated_flow_value:\n",
    "                        calculated_value= calculated_flow_value[0]\n",
    "                        \n",
    "                    else:\n",
    "                        calculated_value = 0\n",
    "                        discrepancy_index = 0\n",
    "\n",
    "                    if observed_flow_value:\n",
    "                        observed_value= observed_flow_value[0]\n",
    "                    else:\n",
    "                        observed_value = 0\n",
    "                        discrepancy_index = 0\n",
    "                    \n",
    "                        \n",
    "                    if observed_value != 0 :\n",
    "                        difference = calculated_value-observed_value\n",
    "                    else:\n",
    "                        difference = 0\n",
    "                        \n",
    "                    if observed_value != 0:\n",
    "                        comparison = {'Source': Source ,\n",
    "                                      'Target': Target,\n",
    "                                      'Material': Material,\n",
    "                                       'Observations': observed_value ,\n",
    "                                       'Calculated': calculated_value,\n",
    "                                       'Difference' : abs(difference) ,\n",
    "                                      'Difference_relative' : abs(difference/observed_value) ,\n",
    "                                        }\n",
    "\n",
    "                        flows_analysis.append(comparison)\n",
    "\n",
    "\n",
    "comparison2 = pd.DataFrame(flows_analysis, columns=[\"Source\", \"Target\", \"Material\", \"Observations\" , \"Calculated\", \"Difference\", \"Difference_relative\"])\n",
    "comparison2.to_excel(r\"..\\..\\UK-wood-mfa\\data_analysis\\comparison_obs_results.xlsx\")\n",
    "            \n",
    "        \n",
    "\n",
    "                    \n",
    "\n",
    "\n",
    "           \n"
   ]
  },
  {
   "cell_type": "code",
   "execution_count": 7,
   "id": "bc572215",
   "metadata": {
    "scrolled": false
   },
   "outputs": [],
   "source": [
    "\n",
    "\n",
    "# Create a DataFrame from the sample data\n",
    "df = pd.DataFrame(flows_analysis, columns=[\"Source\", \"Target\", \"Material\", \"Observations\" , \"Calculated\", \"Difference\", \"Difference_relative\"])\n",
    "\n",
    "\n",
    "\n",
    "# Group the DataFrame by the specified columns (Source, Target, Material)\n",
    "grouped = df.groupby([\"Source\", \"Target\", \"Material\"])\n",
    "\n",
    "\n",
    "\n",
    "\n",
    "# Calculate the mean difference for each group\n",
    "min_diff = grouped[\"Difference\"].min().reset_index()\n",
    "max_diff = grouped[\"Difference\"].max().reset_index()\n",
    "mean_diff = grouped[\"Difference\"].mean().reset_index()\n",
    "min_obs = grouped[\"Observations\"].min().reset_index()\n",
    "max_obs = grouped[\"Observations\"].max().reset_index()\n",
    "mean_obs = grouped[\"Observations\"].mean().reset_index()\n",
    "min_calc = grouped[\"Calculated\"].min().reset_index()\n",
    "max_calc = grouped[\"Calculated\"].max().reset_index()\n",
    "mean_calc = grouped[\"Calculated\"].mean().reset_index()\n",
    "mean_relative_diff = grouped[\"Difference_relative\"].mean().reset_index()\n",
    "min_relative_diff = grouped[\"Difference_relative\"].min().reset_index()\n",
    "max_relative_diff = grouped[\"Difference_relative\"].max().reset_index()\n",
    "\n",
    "\n",
    "result_df = pd.DataFrame({\n",
    "    'Source': min_diff['Source'],\n",
    "    'Target': min_diff['Target'],\n",
    "    'Material': min_diff['Material'],\n",
    "    'Min_obs': min_obs['Observations'],\n",
    "    'Max_obs': max_obs['Observations'],\n",
    "    'Mean_obs': mean_obs['Observations'],\n",
    "    'Min_calc': min_calc['Calculated'],\n",
    "    'Max_calc': max_calc['Calculated'],\n",
    "    'Mean_calc': mean_calc['Calculated'],\n",
    "    'Min_Difference': min_diff['Difference'],\n",
    "    'Max_Difference': max_diff['Difference'],\n",
    "    'Mean_Difference': mean_diff['Difference'],\n",
    "    'Min_Difference_relative': min_relative_diff['Difference_relative'],\n",
    "    'Max_Difference_relative': max_relative_diff['Difference_relative'],\n",
    "    'Mean_Difference_relative': mean_relative_diff['Difference_relative'],\n",
    "})\n",
    "\n",
    "\n",
    "\n",
    "# Display the result DataFrame\n",
    "#print(result_df)\n",
    "result_df.to_excel(r\"..\\..\\UK-wood-mfa\\data_analysis\\comparison_obs_results_10.xlsx\")\n",
    "df.to_excel(r\"..\\..\\UK-wood-mfa\\data_analysis\\comparison_obs_results_without_differences.xlsx\")\n"
   ]
  },
  {
   "cell_type": "code",
   "execution_count": null,
   "id": "3db1a45b",
   "metadata": {},
   "outputs": [],
   "source": []
  },
  {
   "cell_type": "code",
   "execution_count": null,
   "id": "ae6a1183",
   "metadata": {},
   "outputs": [],
   "source": []
  },
  {
   "cell_type": "code",
   "execution_count": null,
   "id": "1a1f87b0",
   "metadata": {},
   "outputs": [],
   "source": []
  },
  {
   "cell_type": "code",
   "execution_count": null,
   "id": "2910f332",
   "metadata": {},
   "outputs": [],
   "source": []
  },
  {
   "cell_type": "code",
   "execution_count": null,
   "id": "30998b79",
   "metadata": {},
   "outputs": [],
   "source": []
  }
 ],
 "metadata": {
  "kernelspec": {
   "display_name": "Python 3 (ipykernel)",
   "language": "python",
   "name": "python3"
  },
  "language_info": {
   "codemirror_mode": {
    "name": "ipython",
    "version": 3
   },
   "file_extension": ".py",
   "mimetype": "text/x-python",
   "name": "python",
   "nbconvert_exporter": "python",
   "pygments_lexer": "ipython3",
   "version": "3.9.16"
  }
 },
 "nbformat": 4,
 "nbformat_minor": 5
}
